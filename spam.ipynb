{
 "cells": [
  {
   "cell_type": "markdown",
   "metadata": {
    "id": "view-in-github"
   },
   "source": [
    "<a href=\"https://colab.research.google.com/github/mahatalakshmi/mahatalakshmi/blob/main/spam_pridict_practice.ipynb\" target=\"_parent\"><img src=\"https://colab.research.google.com/assets/colab-badge.svg\" alt=\"Open In Colab\"/></a>"
   ]
  },
  {
   "cell_type": "code",
   "execution_count": 1,
   "metadata": {
    "id": "gPpT6Sl0kcaK"
   },
   "outputs": [],
   "source": [
    "import numpy as np\n",
    "import pandas as pd\n",
    "from sklearn.model_selection import train_test_split\n",
    "from sklearn.feature_extraction.text import TfidfVectorizer\n",
    "from sklearn.linear_model import LogisticRegression\n",
    "from sklearn.metrics import accuracy_score"
   ]
  },
  {
   "cell_type": "code",
   "execution_count": 3,
   "metadata": {
    "id": "g2WDJAdSlOYI"
   },
   "outputs": [],
   "source": [
    "mail_data=pd.read_csv('emails (2).csv')"
   ]
  },
  {
   "cell_type": "code",
   "execution_count": 4,
   "metadata": {
    "colab": {
     "base_uri": "https://localhost:8080/"
    },
    "id": "9fV9VtSSl3tn",
    "outputId": "0358c9c6-6dd3-4bc7-be3b-65d329739d38"
   },
   "outputs": [
    {
     "name": "stdout",
     "output_type": "stream",
     "text": [
      "                                                   text  spam\n",
      "0     Subject: naturally irresistible your corporate...   1.0\n",
      "1     Subject: the stock trading gunslinger  fanny i...   1.0\n",
      "2     Subject: unbelievable new homes made easy  im ...   1.0\n",
      "3     Subject: 4 color printing special  request add...   1.0\n",
      "4     Subject: do not have money , get software cds ...   1.0\n",
      "...                                                 ...   ...\n",
      "5727  Subject: re : research and development charges...   0.0\n",
      "5728  Subject: re : receipts from visit  jim ,  than...   0.0\n",
      "5729  Subject: re : enron case study update  wow ! a...   0.0\n",
      "5730  Subject: re : interest  david ,  please , call...   0.0\n",
      "5731  Subject: news : aurora 5 . 2 update  aurora ve...   0.0\n",
      "\n",
      "[5732 rows x 2 columns]\n"
     ]
    }
   ],
   "source": [
    "print(mail_data)"
   ]
  },
  {
   "cell_type": "code",
   "execution_count": 5,
   "metadata": {
    "colab": {
     "base_uri": "https://localhost:8080/"
    },
    "id": "PKJQTymaZEIU",
    "outputId": "5f71bb41-034f-4ec5-f671-f3b8ee4a6034"
   },
   "outputs": [
    {
     "data": {
      "text/plain": [
       "0.0    4359\n",
       "1.0    1367\n",
       "Name: spam, dtype: int64"
      ]
     },
     "execution_count": 5,
     "metadata": {},
     "output_type": "execute_result"
    }
   ],
   "source": [
    "mail_data['spam'].value_counts()"
   ]
  },
  {
   "cell_type": "code",
   "execution_count": 6,
   "metadata": {
    "id": "pnFZTK46VA9i"
   },
   "outputs": [],
   "source": [
    "selected_columns = ['text', 'spam']\n",
    "mail_data = mail_data[selected_columns]"
   ]
  },
  {
   "cell_type": "code",
   "execution_count": 7,
   "metadata": {
    "colab": {
     "base_uri": "https://localhost:8080/",
     "height": 206
    },
    "id": "Xey4Y0_yma5f",
    "outputId": "15b3f4d3-a512-44f1-ce84-095b99764743"
   },
   "outputs": [
    {
     "data": {
      "text/html": [
       "<div>\n",
       "<style scoped>\n",
       "    .dataframe tbody tr th:only-of-type {\n",
       "        vertical-align: middle;\n",
       "    }\n",
       "\n",
       "    .dataframe tbody tr th {\n",
       "        vertical-align: top;\n",
       "    }\n",
       "\n",
       "    .dataframe thead th {\n",
       "        text-align: right;\n",
       "    }\n",
       "</style>\n",
       "<table border=\"1\" class=\"dataframe\">\n",
       "  <thead>\n",
       "    <tr style=\"text-align: right;\">\n",
       "      <th></th>\n",
       "      <th>text</th>\n",
       "      <th>spam</th>\n",
       "    </tr>\n",
       "  </thead>\n",
       "  <tbody>\n",
       "    <tr>\n",
       "      <th>0</th>\n",
       "      <td>Subject: naturally irresistible your corporate...</td>\n",
       "      <td>1.0</td>\n",
       "    </tr>\n",
       "    <tr>\n",
       "      <th>1</th>\n",
       "      <td>Subject: the stock trading gunslinger  fanny i...</td>\n",
       "      <td>1.0</td>\n",
       "    </tr>\n",
       "    <tr>\n",
       "      <th>2</th>\n",
       "      <td>Subject: unbelievable new homes made easy  im ...</td>\n",
       "      <td>1.0</td>\n",
       "    </tr>\n",
       "    <tr>\n",
       "      <th>3</th>\n",
       "      <td>Subject: 4 color printing special  request add...</td>\n",
       "      <td>1.0</td>\n",
       "    </tr>\n",
       "    <tr>\n",
       "      <th>4</th>\n",
       "      <td>Subject: do not have money , get software cds ...</td>\n",
       "      <td>1.0</td>\n",
       "    </tr>\n",
       "  </tbody>\n",
       "</table>\n",
       "</div>"
      ],
      "text/plain": [
       "                                                text  spam\n",
       "0  Subject: naturally irresistible your corporate...   1.0\n",
       "1  Subject: the stock trading gunslinger  fanny i...   1.0\n",
       "2  Subject: unbelievable new homes made easy  im ...   1.0\n",
       "3  Subject: 4 color printing special  request add...   1.0\n",
       "4  Subject: do not have money , get software cds ...   1.0"
      ]
     },
     "execution_count": 7,
     "metadata": {},
     "output_type": "execute_result"
    }
   ],
   "source": [
    "mail_data.head()"
   ]
  },
  {
   "cell_type": "code",
   "execution_count": 8,
   "metadata": {
    "colab": {
     "base_uri": "https://localhost:8080/",
     "height": 206
    },
    "id": "L1EIZ1Dlmhq3",
    "outputId": "8743d679-3f69-48c6-9491-1fbe67e28d89"
   },
   "outputs": [
    {
     "data": {
      "text/html": [
       "<div>\n",
       "<style scoped>\n",
       "    .dataframe tbody tr th:only-of-type {\n",
       "        vertical-align: middle;\n",
       "    }\n",
       "\n",
       "    .dataframe tbody tr th {\n",
       "        vertical-align: top;\n",
       "    }\n",
       "\n",
       "    .dataframe thead th {\n",
       "        text-align: right;\n",
       "    }\n",
       "</style>\n",
       "<table border=\"1\" class=\"dataframe\">\n",
       "  <thead>\n",
       "    <tr style=\"text-align: right;\">\n",
       "      <th></th>\n",
       "      <th>text</th>\n",
       "      <th>spam</th>\n",
       "    </tr>\n",
       "  </thead>\n",
       "  <tbody>\n",
       "    <tr>\n",
       "      <th>5727</th>\n",
       "      <td>Subject: re : research and development charges...</td>\n",
       "      <td>0.0</td>\n",
       "    </tr>\n",
       "    <tr>\n",
       "      <th>5728</th>\n",
       "      <td>Subject: re : receipts from visit  jim ,  than...</td>\n",
       "      <td>0.0</td>\n",
       "    </tr>\n",
       "    <tr>\n",
       "      <th>5729</th>\n",
       "      <td>Subject: re : enron case study update  wow ! a...</td>\n",
       "      <td>0.0</td>\n",
       "    </tr>\n",
       "    <tr>\n",
       "      <th>5730</th>\n",
       "      <td>Subject: re : interest  david ,  please , call...</td>\n",
       "      <td>0.0</td>\n",
       "    </tr>\n",
       "    <tr>\n",
       "      <th>5731</th>\n",
       "      <td>Subject: news : aurora 5 . 2 update  aurora ve...</td>\n",
       "      <td>0.0</td>\n",
       "    </tr>\n",
       "  </tbody>\n",
       "</table>\n",
       "</div>"
      ],
      "text/plain": [
       "                                                   text  spam\n",
       "5727  Subject: re : research and development charges...   0.0\n",
       "5728  Subject: re : receipts from visit  jim ,  than...   0.0\n",
       "5729  Subject: re : enron case study update  wow ! a...   0.0\n",
       "5730  Subject: re : interest  david ,  please , call...   0.0\n",
       "5731  Subject: news : aurora 5 . 2 update  aurora ve...   0.0"
      ]
     },
     "execution_count": 8,
     "metadata": {},
     "output_type": "execute_result"
    }
   ],
   "source": [
    "mail_data.tail()"
   ]
  },
  {
   "cell_type": "code",
   "execution_count": 9,
   "metadata": {
    "colab": {
     "base_uri": "https://localhost:8080/"
    },
    "id": "VZIxzDcZmnOT",
    "outputId": "08406bbd-03d1-44dc-8192-f9a122554a7d"
   },
   "outputs": [
    {
     "data": {
      "text/plain": [
       "(5732, 2)"
      ]
     },
     "execution_count": 9,
     "metadata": {},
     "output_type": "execute_result"
    }
   ],
   "source": [
    "mail_data.shape"
   ]
  },
  {
   "cell_type": "code",
   "execution_count": 10,
   "metadata": {
    "colab": {
     "base_uri": "https://localhost:8080/"
    },
    "id": "HG3koACvVTRq",
    "outputId": "625bdd33-22c4-4202-a464-c71d05d7539d"
   },
   "outputs": [
    {
     "name": "stdout",
     "output_type": "stream",
     "text": [
      "(5694, 2)\n"
     ]
    }
   ],
   "source": [
    "mail_data.drop_duplicates(inplace=True)\n",
    "print(mail_data.shape)"
   ]
  },
  {
   "cell_type": "code",
   "execution_count": 11,
   "metadata": {
    "colab": {
     "base_uri": "https://localhost:8080/"
    },
    "id": "reXYQ5IDVbm9",
    "outputId": "487d4984-f4f3-4c4e-e0ee-1d687fd1609b"
   },
   "outputs": [
    {
     "name": "stdout",
     "output_type": "stream",
     "text": [
      "text    1\n",
      "spam    1\n",
      "dtype: int64\n"
     ]
    }
   ],
   "source": [
    "print(mail_data.isnull().sum())"
   ]
  },
  {
   "cell_type": "code",
   "execution_count": 12,
   "metadata": {
    "id": "shb4Zok6VhAR"
   },
   "outputs": [],
   "source": [
    "mail_data=mail_data.dropna()"
   ]
  },
  {
   "cell_type": "code",
   "execution_count": 13,
   "metadata": {
    "colab": {
     "base_uri": "https://localhost:8080/"
    },
    "id": "6YY5wecTXZo1",
    "outputId": "ebf8115f-cbc3-4cc1-ce65-22fe84304b50"
   },
   "outputs": [
    {
     "data": {
      "text/plain": [
       "0.0    4326\n",
       "1.0    1367\n",
       "Name: spam, dtype: int64"
      ]
     },
     "execution_count": 13,
     "metadata": {},
     "output_type": "execute_result"
    }
   ],
   "source": [
    "mail_data['spam'].value_counts()"
   ]
  },
  {
   "cell_type": "code",
   "execution_count": 14,
   "metadata": {
    "id": "L5xoJQyFYLbE"
   },
   "outputs": [],
   "source": [
    "cond= mail_data['spam']==\" mr suresh prabhu\"\n",
    "mail_data = mail_data[~cond]"
   ]
  },
  {
   "cell_type": "code",
   "execution_count": 15,
   "metadata": {
    "id": "CvAHfIxhnm_A"
   },
   "outputs": [],
   "source": [
    "X = mail_data['text']\n",
    "y = mail_data['spam']"
   ]
  },
  {
   "cell_type": "code",
   "execution_count": 16,
   "metadata": {
    "colab": {
     "base_uri": "https://localhost:8080/"
    },
    "id": "5o3at_NpoF3Y",
    "outputId": "07b6e49c-47f5-45f7-8aa3-84120b5f7aec"
   },
   "outputs": [
    {
     "name": "stdout",
     "output_type": "stream",
     "text": [
      "0       Subject: naturally irresistible your corporate...\n",
      "1       Subject: the stock trading gunslinger  fanny i...\n",
      "2       Subject: unbelievable new homes made easy  im ...\n",
      "3       Subject: 4 color printing special  request add...\n",
      "4       Subject: do not have money , get software cds ...\n",
      "                              ...                        \n",
      "5727    Subject: re : research and development charges...\n",
      "5728    Subject: re : receipts from visit  jim ,  than...\n",
      "5729    Subject: re : enron case study update  wow ! a...\n",
      "5730    Subject: re : interest  david ,  please , call...\n",
      "5731    Subject: news : aurora 5 . 2 update  aurora ve...\n",
      "Name: text, Length: 5693, dtype: object\n"
     ]
    }
   ],
   "source": [
    "print (X)"
   ]
  },
  {
   "cell_type": "code",
   "execution_count": 17,
   "metadata": {
    "colab": {
     "base_uri": "https://localhost:8080/"
    },
    "id": "NycH8H1foP_C",
    "outputId": "7acd932e-8c65-4fd0-f191-977b53fd8d61"
   },
   "outputs": [
    {
     "name": "stdout",
     "output_type": "stream",
     "text": [
      "0       1.0\n",
      "1       1.0\n",
      "2       1.0\n",
      "3       1.0\n",
      "4       1.0\n",
      "       ... \n",
      "5727    0.0\n",
      "5728    0.0\n",
      "5729    0.0\n",
      "5730    0.0\n",
      "5731    0.0\n",
      "Name: spam, Length: 5693, dtype: float64\n"
     ]
    }
   ],
   "source": [
    "print(y)"
   ]
  },
  {
   "cell_type": "code",
   "execution_count": 18,
   "metadata": {
    "id": "1fwH2tr6oXFR"
   },
   "outputs": [],
   "source": [
    "X_train,X_test,Y_train,Y_test=train_test_split(X,y,test_size=0.2,random_state=2)"
   ]
  },
  {
   "cell_type": "code",
   "execution_count": 19,
   "metadata": {
    "colab": {
     "base_uri": "https://localhost:8080/"
    },
    "id": "JD-8dJG9p795",
    "outputId": "35c01f80-ed9e-4729-e9bb-20876fa50a7c"
   },
   "outputs": [
    {
     "name": "stdout",
     "output_type": "stream",
     "text": [
      "(5693,)\n",
      "(4554,)\n",
      "(1139,)\n"
     ]
    }
   ],
   "source": [
    "print(X.shape)\n",
    "print(X_train.shape)\n",
    "print(X_test.shape)"
   ]
  },
  {
   "cell_type": "code",
   "execution_count": 20,
   "metadata": {
    "colab": {
     "base_uri": "https://localhost:8080/"
    },
    "id": "t_IGQKQAXBro",
    "outputId": "8d161563-7e64-4736-fa84-cde19db80fb1"
   },
   "outputs": [
    {
     "data": {
      "text/plain": [
       "0.0    3476\n",
       "1.0    1078\n",
       "Name: spam, dtype: int64"
      ]
     },
     "execution_count": 20,
     "metadata": {},
     "output_type": "execute_result"
    }
   ],
   "source": [
    "Y_train.value_counts()"
   ]
  },
  {
   "cell_type": "code",
   "execution_count": 21,
   "metadata": {},
   "outputs": [
    {
     "data": {
      "text/plain": [
       "2650    Subject: re : change - video to teleconference...\n",
       "125     Subject: our cool medz  hello , welcome to med...\n",
       "2372    Subject: hi vince !  please let me know if uni...\n",
       "3569    Subject: \" enron day \" to be declared in spear...\n",
       "4546    Subject: alp presentation  this will be in eb ...\n",
       "                              ...                        \n",
       "3350    Subject: giuseppe ' s bio  vince ,  i will tak...\n",
       "1099    Subject: big range of all types of downloadabl...\n",
       "2521    Subject: summer at enron  hi vince : if you or...\n",
       "3623    Subject: mid - year 2000 performance feedback ...\n",
       "2582    Subject: re : generation earnings model  miche...\n",
       "Name: text, Length: 4554, dtype: object"
      ]
     },
     "execution_count": 21,
     "metadata": {},
     "output_type": "execute_result"
    }
   ],
   "source": [
    "X_train"
   ]
  },
  {
   "cell_type": "code",
   "execution_count": 22,
   "metadata": {
    "id": "SeMuVtXBqE_L"
   },
   "outputs": [],
   "source": [
    "feature_extraction = TfidfVectorizer(min_df = 1, stop_words='english', lowercase=True)\n",
    "X_train_features = feature_extraction.fit_transform(X_train)\n",
    "X_test_features = feature_extraction.transform(X_test)\n",
    "Y_train = Y_train.astype('int')\n",
    "Y_test = Y_test.astype('int')"
   ]
  },
  {
   "cell_type": "code",
   "execution_count": 23,
   "metadata": {
    "colab": {
     "base_uri": "https://localhost:8080/"
    },
    "collapsed": true,
    "id": "YL69d2jrq2iC",
    "outputId": "466b2339-c428-4669-f575-0eb021e8fcc6"
   },
   "outputs": [
    {
     "name": "stdout",
     "output_type": "stream",
     "text": [
      "  (0, 10829)\t0.04797691800404904\n",
      "  (0, 21624)\t0.029289370975653133\n",
      "  (0, 8682)\t0.025542874449335586\n",
      "  (0, 24585)\t0.02749373045498101\n",
      "  (0, 21319)\t0.053688907550355366\n",
      "  (0, 9605)\t0.03894799628753907\n",
      "  (0, 18664)\t0.05029506988557991\n",
      "  (0, 8730)\t0.03889424160096087\n",
      "  (0, 3804)\t0.044601360139834144\n",
      "  (0, 15437)\t0.04812419991747931\n",
      "  (0, 12537)\t0.053418510213829776\n",
      "  (0, 10331)\t0.05194647256547805\n",
      "  (0, 7373)\t0.04687767528137925\n",
      "  (0, 26691)\t0.03863015181211599\n",
      "  (0, 31577)\t0.06773365775612923\n",
      "  (0, 25374)\t0.050108307844146334\n",
      "  (0, 21317)\t0.03375679662579638\n",
      "  (0, 1139)\t0.032750954940570176\n",
      "  (0, 880)\t0.14574295301663998\n",
      "  (0, 27268)\t0.20320097326838768\n",
      "  (0, 11373)\t0.029707197753755826\n",
      "  (0, 31128)\t0.04727442358540116\n",
      "  (0, 22575)\t0.07280245504022803\n",
      "  (0, 8109)\t0.019022400868430767\n",
      "  (0, 31719)\t0.036181959822468385\n",
      "  :\t:\n",
      "  (4553, 1117)\t0.05382646695048222\n",
      "  (4553, 268)\t0.0224914919778125\n",
      "  (4553, 10293)\t0.02696247155752544\n",
      "  (4553, 32105)\t0.041428789223297506\n",
      "  (4553, 10321)\t0.028779698645318794\n",
      "  (4553, 28924)\t0.07032565790346305\n",
      "  (4553, 18460)\t0.01680181243707468\n",
      "  (4553, 13471)\t0.03971236762268309\n",
      "  (4553, 5753)\t0.0196925899318492\n",
      "  (4553, 20899)\t0.09371392408843697\n",
      "  (4553, 23323)\t0.016054629302274498\n",
      "  (4553, 31914)\t0.02178466169194344\n",
      "  (4553, 799)\t0.046258122295939647\n",
      "  (4553, 30090)\t0.04646247547574585\n",
      "  (4553, 29780)\t0.03056954368077079\n",
      "  (4553, 15169)\t0.044694111951384945\n",
      "  (4553, 7174)\t0.014278156433669786\n",
      "  (4553, 11326)\t0.016427070560970248\n",
      "  (4553, 297)\t0.03493792481852688\n",
      "  (4553, 808)\t0.019273710372686857\n",
      "  (4553, 579)\t0.07588322522069098\n",
      "  (4553, 110)\t0.022091656755817334\n",
      "  (4553, 25208)\t0.047753627724918875\n",
      "  (4553, 11906)\t0.025990101780447313\n",
      "  (4553, 28819)\t0.014377463818992861\n"
     ]
    }
   ],
   "source": [
    "print(X_train_features)"
   ]
  },
  {
   "cell_type": "code",
   "execution_count": 24,
   "metadata": {
    "id": "QQb5BpDyrDe0"
   },
   "outputs": [],
   "source": [
    "model=LogisticRegression()"
   ]
  },
  {
   "cell_type": "code",
   "execution_count": 25,
   "metadata": {
    "colab": {
     "base_uri": "https://localhost:8080/",
     "height": 74
    },
    "id": "6baZnvCot7Ip",
    "outputId": "e588168d-2d62-4022-dbb9-03db39470efb"
   },
   "outputs": [
    {
     "data": {
      "text/plain": [
       "LogisticRegression()"
      ]
     },
     "execution_count": 25,
     "metadata": {},
     "output_type": "execute_result"
    }
   ],
   "source": [
    "model.fit(X_train_features,Y_train)\n"
   ]
  },
  {
   "cell_type": "code",
   "execution_count": 26,
   "metadata": {
    "id": "s83KaJ-juJs5"
   },
   "outputs": [],
   "source": [
    "prediction_on_training_data = model.predict(X_train_features)\n",
    "accuracy_on_training_data = accuracy_score(Y_train, prediction_on_training_data)"
   ]
  },
  {
   "cell_type": "code",
   "execution_count": 27,
   "metadata": {
    "colab": {
     "base_uri": "https://localhost:8080/"
    },
    "id": "bCut6btyunk0",
    "outputId": "b42922f0-b7b7-4964-eeb0-79042f4c3142"
   },
   "outputs": [
    {
     "name": "stdout",
     "output_type": "stream",
     "text": [
      "0.9956082564778217\n"
     ]
    }
   ],
   "source": [
    "print(accuracy_on_training_data)"
   ]
  },
  {
   "cell_type": "code",
   "execution_count": 28,
   "metadata": {
    "id": "Vo3BjNeqvEtP"
   },
   "outputs": [],
   "source": [
    "prediction_on_testing_data = model.predict(X_test_features)\n",
    "accuracy_on_testing_data = accuracy_score(Y_test, prediction_on_testing_data)"
   ]
  },
  {
   "cell_type": "code",
   "execution_count": 29,
   "metadata": {
    "colab": {
     "base_uri": "https://localhost:8080/"
    },
    "id": "cJEF3neKvZJr",
    "outputId": "92316ffd-95fc-4ecf-8356-5b14c28b625d"
   },
   "outputs": [
    {
     "name": "stdout",
     "output_type": "stream",
     "text": [
      "0.9762949956101844\n"
     ]
    }
   ],
   "source": [
    "print(accuracy_on_testing_data)"
   ]
  },
  {
   "cell_type": "code",
   "execution_count": 30,
   "metadata": {
    "colab": {
     "base_uri": "https://localhost:8080/"
    },
    "id": "vU7A1hatveiz",
    "outputId": "13781abf-510c-4cd8-9cdd-0268d6f12011"
   },
   "outputs": [
    {
     "name": "stdout",
     "output_type": "stream",
     "text": [
      "[1]\n",
      "Ham mail\n"
     ]
    }
   ],
   "source": [
    "input_mail = [\"URGENT! You have won a 2 week FREE membership in our £500 Prize Jackpot!  CLAIM to No: 81010 T&C  LCCLTD POBOX 44037RW18\"]\n",
    "\n",
    "# convert text to feature vectors\n",
    "input_data_features = feature_extraction.transform(input_mail)\n",
    "\n",
    "# making prediction\n",
    "\n",
    "prediction = model.predict(input_data_features)\n",
    "print(prediction)\n",
    "\n",
    "\n",
    "if (prediction[0]==1):\n",
    "  print('Ham mail')\n",
    "\n",
    "else:\n",
    "  print('Spam mail')"
   ]
  },
  {
   "cell_type": "code",
   "execution_count": 31,
   "metadata": {
    "id": "CnBFG-mHvlO6"
   },
   "outputs": [],
   "source": [
    "from sklearn.naive_bayes import MultinomialNB"
   ]
  },
  {
   "cell_type": "code",
   "execution_count": 32,
   "metadata": {
    "colab": {
     "base_uri": "https://localhost:8080/",
     "height": 74
    },
    "id": "rkdc0qnEbNjf",
    "outputId": "6511f4c3-0755-40c6-9eda-7637c82e2b56"
   },
   "outputs": [
    {
     "data": {
      "text/plain": [
       "MultinomialNB()"
      ]
     },
     "execution_count": 32,
     "metadata": {},
     "output_type": "execute_result"
    }
   ],
   "source": [
    "classifier = MultinomialNB()\n",
    "classifier.fit(X_train_features,Y_train)"
   ]
  },
  {
   "cell_type": "code",
   "execution_count": 33,
   "metadata": {
    "id": "hsU_YOykbQpb"
   },
   "outputs": [],
   "source": [
    "prediction_on_training_data = classifier.predict(X_train_features)\n",
    "accuracy_on_training_data = accuracy_score(Y_train, prediction_on_training_data)"
   ]
  },
  {
   "cell_type": "code",
   "execution_count": 34,
   "metadata": {
    "colab": {
     "base_uri": "https://localhost:8080/"
    },
    "id": "HnXoJ2-3be6N",
    "outputId": "89944e51-2548-4aa1-8950-ea4274b91bdb"
   },
   "outputs": [
    {
     "name": "stdout",
     "output_type": "stream",
     "text": [
      "0.9499341238471674\n"
     ]
    }
   ],
   "source": [
    "print(accuracy_on_training_data)"
   ]
  },
  {
   "cell_type": "code",
   "execution_count": 35,
   "metadata": {
    "id": "FN8wvZEebkpS"
   },
   "outputs": [],
   "source": [
    "prediction_on_testing_data = model.predict(X_test_features)\n",
    "accuracy_on_testing_data = accuracy_score(Y_test, prediction_on_testing_data)"
   ]
  },
  {
   "cell_type": "code",
   "execution_count": 36,
   "metadata": {
    "colab": {
     "base_uri": "https://localhost:8080/"
    },
    "id": "kaYnIiujbnMf",
    "outputId": "e02967c0-ed73-4d16-d96a-a7c33601175c"
   },
   "outputs": [
    {
     "name": "stdout",
     "output_type": "stream",
     "text": [
      "0.9762949956101844\n"
     ]
    }
   ],
   "source": [
    "print(accuracy_on_testing_data)"
   ]
  },
  {
   "cell_type": "code",
   "execution_count": 37,
   "metadata": {
    "id": "Vp7PxwjcbpWu"
   },
   "outputs": [],
   "source": [
    "import pickle\n",
    "pickle.dump(classifier,open('classifier_Naive_Bayes.pkl','wb'))"
   ]
  },
  {
   "cell_type": "code",
   "execution_count": 1,
   "metadata": {},
   "outputs": [],
   "source": [
    "import pickle"
   ]
  },
  {
   "cell_type": "code",
   "execution_count": 2,
   "metadata": {},
   "outputs": [],
   "source": [
    "pipe = pickle.load(open('classifier_Naive_Bayes.pkl','rb'))"
   ]
  },
  {
   "cell_type": "code",
   "execution_count": 39,
   "metadata": {},
   "outputs": [
    {
     "name": "stdout",
     "output_type": "stream",
     "text": [
      "0.9499341238471674\n"
     ]
    }
   ],
   "source": [
    "prediction_on_training_data = pipe.predict(X_train_features)\n",
    "accuracy_on_training_data = accuracy_score(Y_train, prediction_on_training_data)\n",
    "print(accuracy_on_training_data)"
   ]
  },
  {
   "cell_type": "code",
   "execution_count": null,
   "metadata": {},
   "outputs": [],
   "source": [
    "X_test_features = feature_extraction.transform(X_test)"
   ]
  },
  {
   "cell_type": "code",
   "execution_count": 40,
   "metadata": {},
   "outputs": [],
   "source": [
    "pickle.dump(feature_extraction,open('feature_extraction.pkl','wb'))"
   ]
  },
  {
   "cell_type": "code",
   "execution_count": 3,
   "metadata": {},
   "outputs": [],
   "source": [
    "feat = pickle.load(open('feature_extraction.pkl','rb'))"
   ]
  },
  {
   "cell_type": "code",
   "execution_count": 4,
   "metadata": {},
   "outputs": [
    {
     "name": "stdout",
     "output_type": "stream",
     "text": [
      "[0]\n",
      "Spam mail\n"
     ]
    }
   ],
   "source": [
    "input_mail = [\"URGENT! You have won a 2 week FREE membership in our £500 Prize Jackpot!  CLAIM to No: 81010 T&C  LCCLTD POBOX 44037RW18\"]\n",
    "\n",
    "# convert text to feature vectors\n",
    "input_data_features = feat.transform(input_mail)\n",
    "\n",
    "# making prediction\n",
    "\n",
    "prediction = pipe.predict(input_data_features)\n",
    "print(prediction)\n",
    "\n",
    "\n",
    "if (prediction[0]==1):\n",
    "  print('Ham mail')\n",
    "\n",
    "else:\n",
    "  print('Spam mail')"
   ]
  },
  {
   "cell_type": "code",
   "execution_count": null,
   "metadata": {},
   "outputs": [],
   "source": []
  }
 ],
 "metadata": {
  "colab": {
   "provenance": []
  },
  "kernelspec": {
   "display_name": "Python 3 (ipykernel)",
   "language": "python",
   "name": "python3"
  },
  "language_info": {
   "codemirror_mode": {
    "name": "ipython",
    "version": 3
   },
   "file_extension": ".py",
   "mimetype": "text/x-python",
   "name": "python",
   "nbconvert_exporter": "python",
   "pygments_lexer": "ipython3",
   "version": "3.9.12"
  }
 },
 "nbformat": 4,
 "nbformat_minor": 1
}
